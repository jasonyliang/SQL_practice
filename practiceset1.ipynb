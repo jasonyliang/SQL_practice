{
  "cells": [
    {
      "metadata": {
        "_uuid": "d806df7cf446e426d20f6f22c0a8f0f3dbc2d01e",
        "_cell_guid": "0d7c72bb-92fc-4dd5-aaf1-3f09d5596f70"
      },
      "cell_type": "markdown",
      "source": "# Get Started\n\nAfter forking this notebook, run the code in the following cell:"
    },
    {
      "metadata": {
        "_uuid": "e8e05de6187c3fc6f4bbd50f14db639b62a51bf1",
        "_cell_guid": "dbc3a790-b44a-4bea-a04a-b68fa2fed4c0",
        "trusted": false,
        "collapsed": true
      },
      "cell_type": "code",
      "source": "# import package with helper functions \nimport bq_helper\n\n# create a helper object for this dataset\nhacker_news = bq_helper.BigQueryHelper(active_project=\"bigquery-public-data\",\n                                   dataset_name=\"hacker_news\")\n\n# print the first couple rows of the \"comments\" table\nhacker_news.head(\"comments\")",
      "execution_count": null,
      "outputs": []
    },
    {
      "metadata": {
        "_uuid": "8f2839f25d086af736a60e9eeb907d3b93b6e0e5",
        "_cell_guid": "b1076dfc-b9ad-4769-8c92-a6c4dae69d19"
      },
      "cell_type": "markdown",
      "source": "# Question\nUsing the Hacker News dataset in BigQuery, answer the following questions:\n\n#### 1) How many stories (use the \"id\" column) are there of each type (in the \"type\" column) in the full table?"
    },
    {
      "metadata": {
        "_uuid": "d629ff2d2480ee46fbb7e2d37f6b5fab8052498a",
        "_cell_guid": "79c7e3d0-c299-4dcb-8224-4455121ee9b0",
        "trusted": false,
        "collapsed": true
      },
      "cell_type": "code",
      "source": "# Your Code Here\nquery = \"\"\"\n        SELECT type, COUNT(id)\n        FROM `bigquery-public-data.hacker_news.full`\n        GROUP BY type\n\"\"\"\n\nstories = hacker_news.query_to_pandas_safe(query)\nprint(stories)",
      "execution_count": null,
      "outputs": []
    },
    {
      "metadata": {
        "_uuid": "eb321bab8e85853cbff7c4e70fdc631aa587617e",
        "_cell_guid": "1b5237c2-b956-41fe-80f5-4d185e40a126"
      },
      "cell_type": "markdown",
      "source": "#### 2) How many comments have been deleted? (If a comment was deleted the \"deleted\" column in the comments table will have the value \"True\".)"
    },
    {
      "metadata": {
        "_uuid": "940a57fa95be21d02981f268d84b684304b86593",
        "_cell_guid": "17c1d2f3-655a-4c05-985f-4f1f345fe368",
        "trusted": false,
        "collapsed": true
      },
      "cell_type": "code",
      "source": "# Your Code Here\nquery = \"\"\"\n        SELECT COUNT(id)\n        FROM `bigquery-public-data.hacker_news.comments`\n        WHERE deleted = True\n\"\"\"\nstories = hacker_news.query_to_pandas_safe(query)\nprint(stories)",
      "execution_count": null,
      "outputs": []
    },
    {
      "metadata": {
        "_uuid": "dd5691b5813a4fd68a6ccb34d97e6d693458383d",
        "_cell_guid": "5f8c5e7b-853d-45ec-ab93-092c47e45971"
      },
      "cell_type": "markdown",
      "source": "#### 3) Modify one of the queries you wrote above to use a different aggregate function.\nYou can read about aggregate functions other than COUNT() **[in these docs](https://cloud.google.com/bigquery/docs/reference/standard-sql/functions-and-operators#aggregate-functions)**"
    },
    {
      "metadata": {
        "_uuid": "587435c6647dc9c86d4c47a224ded128bd799eee",
        "_cell_guid": "02eabdfe-fa24-41b0-a94a-fd0e9aba8172",
        "trusted": false,
        "collapsed": true
      },
      "cell_type": "code",
      "source": "# Your Code Here\nquery = \"\"\"\n        SELECT type, count(deleted = True)\n        FROM `bigquery-public-data.hacker_news.full`\n        GROUP BY type\n       \n\"\"\"\nstories = hacker_news.query_to_pandas_safe(query)\nprint(stories)",
      "execution_count": null,
      "outputs": []
    },
    {
      "metadata": {
        "_uuid": "fc08b831741d6e9047b43fcf744f4701527a2ca7",
        "_cell_guid": "827df875-f5ce-4435-9b6e-3fd44b64c69c"
      },
      "cell_type": "markdown",
      "source": "---\n\n# Keep Going\n[Click here](https://www.kaggle.com/dansbecker/order-by) to move on and learn about the ORDER BY clause.\n\n# Feedback\nBring any questions or feedback to the [Learn Discussion Forum](kaggle.com/learn-forum).\n\n----\n\n*This exercise is part of the [SQL Series](https://www.kaggle.com/learn/sql) on Kaggle Learn.*"
    }
  ],
  "metadata": {
    "language_info": {
      "name": "python",
      "version": "3.6.5",
      "mimetype": "text/x-python",
      "codemirror_mode": {
        "name": "ipython",
        "version": 3
      },
      "pygments_lexer": "ipython3",
      "nbconvert_exporter": "python",
      "file_extension": ".py"
    },
    "kernelspec": {
      "display_name": "Python 3",
      "language": "python",
      "name": "python3"
    }
  },
  "nbformat": 4,
  "nbformat_minor": 1
}