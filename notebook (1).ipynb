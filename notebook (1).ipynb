{
  "cells": [
    {
      "metadata": {
        "collapsed": true,
        "_uuid": "8f2839f25d086af736a60e9eeb907d3b93b6e0e5",
        "_cell_guid": "b1076dfc-b9ad-4769-8c92-a6c4dae69d19",
        "trusted": false
      },
      "cell_type": "code",
      "source": "# This Python 3 environment comes with many helpful analytics libraries installed\n# It is defined by the kaggle/python docker image: https://github.com/kaggle/docker-python\n# For example, here's several helpful packages to load in \n\nimport numpy as np # linear algebra\nimport pandas as pd # data processing, CSV file I/O (e.g. pd.read_csv)\n\n# Input data files are available in the \"../input/\" directory.\n# For example, running this (by clicking run or pressing Shift+Enter) will list the files in the input directory\n\nimport os\nprint(os.listdir(\"../input\"))\n\n# Any results you write to the current directory are saved as output.",
      "execution_count": null,
      "outputs": []
    },
    {
      "metadata": {
        "collapsed": true,
        "_uuid": "d629ff2d2480ee46fbb7e2d37f6b5fab8052498a",
        "_cell_guid": "79c7e3d0-c299-4dcb-8224-4455121ee9b0",
        "trusted": false
      },
      "cell_type": "code",
      "source": "import bq_helper\n# See https://www.kaggle.com/dansbecker/getting-started-with-sql-and-bigquery",
      "execution_count": null,
      "outputs": []
    },
    {
      "metadata": {
        "collapsed": true,
        "_uuid": "cf265d96155f397194cfd62764900c092ee0dadb",
        "_cell_guid": "c50d459b-0dde-4f65-98f1-496c3fa8c346",
        "trusted": false
      },
      "cell_type": "code",
      "source": "air_pollution = bq_helper.BigQueryHelper(\"bigquery-public-data\", \"epa_historical_air_quality\")",
      "execution_count": null,
      "outputs": []
    },
    {
      "metadata": {
        "collapsed": true,
        "_uuid": "7e49c9401a1b9d727745e7893544e563e699d222",
        "_cell_guid": "1d17caae-08d8-4fc9-9012-32450e4e42fc",
        "trusted": false
      },
      "cell_type": "code",
      "source": "air_pollution.list_tables()",
      "execution_count": null,
      "outputs": []
    },
    {
      "metadata": {
        "collapsed": true,
        "_uuid": "2f56e70494c07c4965f4a7a4faf5cea447db4abd",
        "_cell_guid": "2e0cadbd-af8a-4d5a-9e2e-d6063d202aea",
        "trusted": false
      },
      "cell_type": "code",
      "source": "# print information on all the columns in the \"full\" table\n# in the hacker_news dataset\nair_pollution.table_schema(\"air_quality_annual_summary\")",
      "execution_count": null,
      "outputs": []
    },
    {
      "metadata": {
        "collapsed": true,
        "_uuid": "18f36e27644bb985d78e5600e6dc24eeab7f4835",
        "_cell_guid": "63f02d79-9e71-4bad-bf20-b5f6b9627369",
        "trusted": false
      },
      "cell_type": "code",
      "source": "# check the first couple of lines to make sure the data is correct\nair_pollution.head(\"air_quality_annual_summary\")",
      "execution_count": null,
      "outputs": []
    },
    {
      "metadata": {
        "collapsed": true,
        "_uuid": "5b2e2c954f61888d4b6d29c82af8c9aef9477eef",
        "_cell_guid": "bcedb8d3-73ea-4e66-8df3-33a8b836e7ad",
        "trusted": false
      },
      "cell_type": "code",
      "source": "# .head() method could also be used to check a specific column\nair_pollution.head(\"air_quality_annual_summary\", selected_columns = 'ninety_five_percentile', num_rows = 12)",
      "execution_count": null,
      "outputs": []
    },
    {
      "metadata": {
        "collapsed": true,
        "_uuid": "bc1e63f2bf81bf1a594e75840ce695d2f77651e3",
        "_cell_guid": "2c4d6b0b-1754-4d7b-9b0f-92130668cdc7",
        "trusted": false
      },
      "cell_type": "code",
      "source": "# Estimate the query size of a dataset\nquery = \"\"\"SELECT state_code\n            FROM `bigquery-public-data.epa_historical_air_quality.air_quality_annual_summary`\n            WHERE county_code = '001'\n        \"\"\" \n\nair_pollution.estimate_query_size(query)\n",
      "execution_count": null,
      "outputs": []
    },
    {
      "metadata": {
        "collapsed": true,
        "_uuid": "3f09c151b41da364aeeaf7169d275884a59ebf00",
        "_cell_guid": "43b84ec6-facc-4a03-9931-0b3f6f4300f0",
        "trusted": false
      },
      "cell_type": "code",
      "source": "# Run the query\nair_pollution.query_to_pandas_safe(query, max_gb_scanned=0.02)",
      "execution_count": null,
      "outputs": []
    },
    {
      "metadata": {
        "collapsed": true,
        "_uuid": "e4c7b7f67b29fdbd15f488180217df2d13cbb027",
        "_cell_guid": "2c8692f2-826c-4ce6-a0a1-5b783c8aba97",
        "trusted": false
      },
      "cell_type": "code",
      "source": "# Play around with the query\nstates = air_pollution.query_to_pandas(query)\nprint(int(states.max()))",
      "execution_count": null,
      "outputs": []
    },
    {
      "metadata": {
        "collapsed": true,
        "_uuid": "4332422f743c318594cab4b92a2c64d563efb9c8",
        "_cell_guid": "f9d1838c-130a-4678-9d21-82ce1a15895c",
        "trusted": false
      },
      "cell_type": "code",
      "source": "import matplotlib.pyplot as plt\nplt.figure(1,(12,3))\nplt.hist(states,edgecolor='black', linewidth=1.2, bins = int(states.max()))\n\nplt.show()",
      "execution_count": null,
      "outputs": []
    },
    {
      "metadata": {
        "collapsed": true,
        "_uuid": "9d8041b8b925e73467ad2139a474ece45a8a18ea",
        "_cell_guid": "9bba88af-de83-41da-83a0-757a172cfea1",
        "trusted": false
      },
      "cell_type": "code",
      "source": "states.state_code.value_counts().head()",
      "execution_count": null,
      "outputs": []
    },
    {
      "metadata": {
        "collapsed": true,
        "_uuid": "fd9c063db1141dd3a1bac5e7ad97156eda853bf7",
        "_cell_guid": "b46528c3-7f4e-4b8d-9d32-25bb0164351b",
        "trusted": false
      },
      "cell_type": "code",
      "source": "# try GROUP BY and HAVING methods\n\nquery = \"\"\"\n        SELECT arithmetic_mean, COUNT(state_code)\n        FROM `bigquery-public-data.epa_historical_air_quality.air_quality_annual_summary`\n        GROUP BY arithmetic_mean\n        HAVING COUNT(state_code) > 10\n\"\"\"\nmean = air_pollution.query_to_pandas_safe(query)\nprint(mean.head())",
      "execution_count": null,
      "outputs": []
    },
    {
      "metadata": {
        "collapsed": true,
        "_uuid": "9952c123af1cdb7a0d06f157bb7efd8869c65c5a",
        "_cell_guid": "11024068-38ff-412c-b77f-5c20d6de6d9b",
        "trusted": false
      },
      "cell_type": "code",
      "source": "query = \"\"\"\n        SELECT arithmetic_mean, state_code, site_num\n        FROM `bigquery-public-data.epa_historical_air_quality.air_quality_annual_summary`\n        ORDER BY state_code DESC\n\"\"\"\nmean = air_pollution.query_to_pandas_safe(query, max_gb_scanned=0.04)\nprint(mean.head())",
      "execution_count": null,
      "outputs": []
    }
  ],
  "metadata": {
    "language_info": {
      "name": "python",
      "version": "3.6.5",
      "mimetype": "text/x-python",
      "codemirror_mode": {
        "name": "ipython",
        "version": 3
      },
      "pygments_lexer": "ipython3",
      "nbconvert_exporter": "python",
      "file_extension": ".py"
    },
    "kernelspec": {
      "display_name": "Python 3",
      "language": "python",
      "name": "python3"
    }
  },
  "nbformat": 4,
  "nbformat_minor": 1
}