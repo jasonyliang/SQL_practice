{
 "cells": [
  {
   "cell_type": "markdown",
   "metadata": {
    "_cell_guid": "0d7c72bb-92fc-4dd5-aaf1-3f09d5596f70",
    "_uuid": "d806df7cf446e426d20f6f22c0a8f0f3dbc2d01e"
   },
   "source": [
    "# Get Started\n",
    "\n",
    "After forking this notebook, run the code in the following cell:"
   ]
  },
  {
   "cell_type": "code",
   "execution_count": 1,
   "metadata": {
    "_cell_guid": "dbc3a790-b44a-4bea-a04a-b68fa2fed4c0",
    "_uuid": "e8e05de6187c3fc6f4bbd50f14db639b62a51bf1"
   },
   "outputs": [
    {
     "ename": "ImportError",
     "evalue": "No module named 'bq_helper'",
     "output_type": "error",
     "traceback": [
      "\u001b[0;31m---------------------------------------------------------------------------\u001b[0m",
      "\u001b[0;31mImportError\u001b[0m                               Traceback (most recent call last)",
      "\u001b[0;32m<ipython-input-1-ef94288fe9bf>\u001b[0m in \u001b[0;36m<module>\u001b[0;34m()\u001b[0m\n\u001b[1;32m      1\u001b[0m \u001b[0;31m# import package with helper functions\u001b[0m\u001b[0;34m\u001b[0m\u001b[0;34m\u001b[0m\u001b[0m\n\u001b[0;32m----> 2\u001b[0;31m \u001b[0;32mimport\u001b[0m \u001b[0mbq_helper\u001b[0m\u001b[0;34m\u001b[0m\u001b[0m\n\u001b[0m\u001b[1;32m      3\u001b[0m \u001b[0;34m\u001b[0m\u001b[0m\n\u001b[1;32m      4\u001b[0m \u001b[0;31m# create a helper object for this dataset\u001b[0m\u001b[0;34m\u001b[0m\u001b[0;34m\u001b[0m\u001b[0m\n\u001b[1;32m      5\u001b[0m hacker_news = bq_helper.BigQueryHelper(active_project=\"bigquery-public-data\",\n",
      "\u001b[0;31mImportError\u001b[0m: No module named 'bq_helper'"
     ]
    }
   ],
   "source": [
    "# import package with helper functions \n",
    "import bq_helper\n",
    "\n",
    "# create a helper object for this dataset\n",
    "hacker_news = bq_helper.BigQueryHelper(active_project=\"bigquery-public-data\",\n",
    "                                   dataset_name=\"hacker_news\")\n",
    "\n",
    "# print the first couple rows of the \"comments\" table\n",
    "hacker_news.head(\"comments\")"
   ]
  },
  {
   "cell_type": "markdown",
   "metadata": {
    "_cell_guid": "b1076dfc-b9ad-4769-8c92-a6c4dae69d19",
    "_uuid": "8f2839f25d086af736a60e9eeb907d3b93b6e0e5"
   },
   "source": [
    "# Question\n",
    "Using the Hacker News dataset in BigQuery, answer the following questions:\n",
    "\n",
    "#### 1) How many stories (use the \"id\" column) are there of each type (in the \"type\" column) in the full table?"
   ]
  },
  {
   "cell_type": "code",
   "execution_count": null,
   "metadata": {
    "_cell_guid": "79c7e3d0-c299-4dcb-8224-4455121ee9b0",
    "_uuid": "d629ff2d2480ee46fbb7e2d37f6b5fab8052498a"
   },
   "outputs": [],
   "source": [
    "# Your Code Here\n",
    "query = \"\"\"\n",
    "        SELECT type, COUNT(id)\n",
    "        FROM `bigquery-public-data.hacker_news.full`\n",
    "        GROUP BY type\n",
    "\"\"\"\n",
    "\n",
    "stories = hacker_news.query_to_pandas_safe(query)\n",
    "print(stories)"
   ]
  },
  {
   "cell_type": "markdown",
   "metadata": {
    "_cell_guid": "1b5237c2-b956-41fe-80f5-4d185e40a126",
    "_uuid": "eb321bab8e85853cbff7c4e70fdc631aa587617e"
   },
   "source": [
    "#### 2) How many comments have been deleted? (If a comment was deleted the \"deleted\" column in the comments table will have the value \"True\".)"
   ]
  },
  {
   "cell_type": "code",
   "execution_count": null,
   "metadata": {
    "_cell_guid": "17c1d2f3-655a-4c05-985f-4f1f345fe368",
    "_uuid": "940a57fa95be21d02981f268d84b684304b86593"
   },
   "outputs": [],
   "source": [
    "# Your Code Here\n",
    "query = \"\"\"\n",
    "        SELECT COUNT(id)\n",
    "        FROM `bigquery-public-data.hacker_news.comments`\n",
    "        WHERE deleted = True\n",
    "\"\"\"\n",
    "stories = hacker_news.query_to_pandas_safe(query)\n",
    "print(stories)"
   ]
  },
  {
   "cell_type": "markdown",
   "metadata": {
    "_cell_guid": "5f8c5e7b-853d-45ec-ab93-092c47e45971",
    "_uuid": "dd5691b5813a4fd68a6ccb34d97e6d693458383d"
   },
   "source": [
    "#### 3) Modify one of the queries you wrote above to use a different aggregate function.\n",
    "You can read about aggregate functions other than COUNT() **[in these docs](https://cloud.google.com/bigquery/docs/reference/standard-sql/functions-and-operators#aggregate-functions)**"
   ]
  },
  {
   "cell_type": "code",
   "execution_count": 2,
   "metadata": {
    "_cell_guid": "02eabdfe-fa24-41b0-a94a-fd0e9aba8172",
    "_uuid": "587435c6647dc9c86d4c47a224ded128bd799eee"
   },
   "outputs": [
    {
     "ename": "NameError",
     "evalue": "name 'hacker_news' is not defined",
     "output_type": "error",
     "traceback": [
      "\u001b[0;31m---------------------------------------------------------------------------\u001b[0m",
      "\u001b[0;31mNameError\u001b[0m                                 Traceback (most recent call last)",
      "\u001b[0;32m<ipython-input-2-e42a1e274f7d>\u001b[0m in \u001b[0;36m<module>\u001b[0;34m()\u001b[0m\n\u001b[1;32m      6\u001b[0m \u001b[0;34m\u001b[0m\u001b[0m\n\u001b[1;32m      7\u001b[0m \"\"\"\n\u001b[0;32m----> 8\u001b[0;31m \u001b[0mstories\u001b[0m \u001b[0;34m=\u001b[0m \u001b[0mhacker_news\u001b[0m\u001b[0;34m.\u001b[0m\u001b[0mquery_to_pandas_safe\u001b[0m\u001b[0;34m(\u001b[0m\u001b[0mquery\u001b[0m\u001b[0;34m)\u001b[0m\u001b[0;34m\u001b[0m\u001b[0m\n\u001b[0m\u001b[1;32m      9\u001b[0m \u001b[0mprint\u001b[0m\u001b[0;34m(\u001b[0m\u001b[0mstories\u001b[0m\u001b[0;34m)\u001b[0m\u001b[0;34m\u001b[0m\u001b[0m\n",
      "\u001b[0;31mNameError\u001b[0m: name 'hacker_news' is not defined"
     ]
    }
   ],
   "source": [
    "# Your Code Here\n",
    "query = \"\"\"\n",
    "        SELECT type, count(deleted = True)\n",
    "        FROM `bigquery-public-data.hacker_news.full`\n",
    "        GROUP BY type\n",
    "       \n",
    "\"\"\"\n",
    "stories = hacker_news.query_to_pandas_safe(query)\n",
    "print(stories)"
   ]
  },
  {
   "cell_type": "markdown",
   "metadata": {
    "_cell_guid": "827df875-f5ce-4435-9b6e-3fd44b64c69c",
    "_uuid": "fc08b831741d6e9047b43fcf744f4701527a2ca7"
   },
   "source": [
    "---\n",
    "\n",
    "# Keep Going\n",
    "[Click here](https://www.kaggle.com/dansbecker/order-by) to move on and learn about the ORDER BY clause.\n",
    "\n",
    "# Feedback\n",
    "Bring any questions or feedback to the [Learn Discussion Forum](kaggle.com/learn-forum).\n",
    "\n",
    "----\n",
    "\n",
    "*This exercise is part of the [SQL Series](https://www.kaggle.com/learn/sql) on Kaggle Learn.*"
   ]
  }
 ],
 "metadata": {
  "kernelspec": {
   "display_name": "Python 3",
   "language": "python",
   "name": "python3"
  },
  "language_info": {
   "codemirror_mode": {
    "name": "ipython",
    "version": 3
   },
   "file_extension": ".py",
   "mimetype": "text/x-python",
   "name": "python",
   "nbconvert_exporter": "python",
   "pygments_lexer": "ipython3",
   "version": "3.5.5"
  }
 },
 "nbformat": 4,
 "nbformat_minor": 1
}
